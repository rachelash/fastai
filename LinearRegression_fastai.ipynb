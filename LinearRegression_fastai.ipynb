{
  "nbformat": 4,
  "nbformat_minor": 0,
  "metadata": {
    "colab": {
      "name": "LinearRegression_fastai.ipynb",
      "version": "0.3.2",
      "provenance": [],
      "collapsed_sections": [],
      "include_colab_link": true
    },
    "kernelspec": {
      "name": "python3",
      "display_name": "Python 3"
    }
  },
  "cells": [
    {
      "cell_type": "markdown",
      "metadata": {
        "id": "view-in-github",
        "colab_type": "text"
      },
      "source": [
        "<a href=\"https://colab.research.google.com/github/rachelash/fastai/blob/master/LinearRegression_fastai.ipynb\" target=\"_parent\"><img src=\"https://colab.research.google.com/assets/colab-badge.svg\" alt=\"Open In Colab\"/></a>"
      ]
    },
    {
      "cell_type": "code",
      "metadata": {
        "id": "SpSnPflJ1ptd",
        "colab_type": "code",
        "colab": {
          "base_uri": "https://localhost:8080/",
          "height": 269
        },
        "outputId": "7724c86b-7a5b-475c-9fa4-1acb1d1edbaf"
      },
      "source": [
        "%matplotlib inline\n",
        "from fastai.basics import *\n",
        "\n",
        "x = torch.ones(100,2) \n",
        "x[:,0].uniform_(-1.,1)  #random between -1 and 1\n",
        "a = tensor(3.,2)\n",
        "y = x@a + torch.rand(100)\n",
        "plt.scatter(x[:,0], y);"
      ],
      "execution_count": 17,
      "outputs": [
        {
          "output_type": "display_data",
          "data": {
            "image/png": "[encoded data removed]",
            "text/plain": [
              "<Figure size 432x288 with 1 Axes>"
            ]
          },
          "metadata": {
            "tags": []
          }
        }
      ]
    },
    {
      "cell_type": "code",
      "metadata": {
        "id": "iUxa1EQw4MoX",
        "colab_type": "code",
        "colab": {
          "base_uri": "https://localhost:8080/",
          "height": 35
        },
        "outputId": "aa8685ab-114e-4819-98ab-cee90e4d4cfe"
      },
      "source": [
        "def mse(y_hat, y): return ((y_hat-y)**2).mean()\n",
        "\n",
        "#we dont know what is a but we set it to a random vector\n",
        "y_hat = x@a\n",
        "mse(y_hat, y)"
      ],
      "execution_count": 18,
      "outputs": [
        {
          "output_type": "execute_result",
          "data": {
            "text/plain": [
              "tensor(0.3631)"
            ]
          },
          "metadata": {
            "tags": []
          },
          "execution_count": 18
        }
      ]
    },
    {
      "cell_type": "code",
      "metadata": {
        "id": "RjyhjGVr5BiP",
        "colab_type": "code",
        "colab": {
          "base_uri": "https://localhost:8080/",
          "height": 52
        },
        "outputId": "9a22c123-904d-472a-b7a7-6baf9c646e5c"
      },
      "source": [
        "a = nn.Parameter(a); a"
      ],
      "execution_count": 19,
      "outputs": [
        {
          "output_type": "execute_result",
          "data": {
            "text/plain": [
              "Parameter containing:\n",
              "tensor([3., 2.], requires_grad=True)"
            ]
          },
          "metadata": {
            "tags": []
          },
          "execution_count": 19
        }
      ]
    },
    {
      "cell_type": "code",
      "metadata": {
        "id": "puBLxOfE5JcP",
        "colab_type": "code",
        "colab": {
          "base_uri": "https://localhost:8080/",
          "height": 191
        },
        "outputId": "d1a24fa8-5a8d-4c93-cf97-ee1adae254d4"
      },
      "source": [
        "def update():\n",
        "    y_hat = x@a\n",
        "    loss = mse(y, y_hat)\n",
        "    if t % 10 == 0: print(loss)\n",
        "    loss.backward()\n",
        "    with torch.no_grad():\n",
        "        a.sub_(lr * a.grad)\n",
        "        a.grad.zero_()\n",
        "        \n",
        "        \n",
        "lr = 1e-1\n",
        "for t in range(100): update()"
      ],
      "execution_count": 20,
      "outputs": [
        {
          "output_type": "stream",
          "text": [
            "tensor(0.3631, grad_fn=<MeanBackward0>)\n",
            "tensor(0.0848, grad_fn=<MeanBackward0>)\n",
            "tensor(0.0807, grad_fn=<MeanBackward0>)\n",
            "tensor(0.0804, grad_fn=<MeanBackward0>)\n",
            "tensor(0.0803, grad_fn=<MeanBackward0>)\n",
            "tensor(0.0803, grad_fn=<MeanBackward0>)\n",
            "tensor(0.0803, grad_fn=<MeanBackward0>)\n",
            "tensor(0.0803, grad_fn=<MeanBackward0>)\n",
            "tensor(0.0803, grad_fn=<MeanBackward0>)\n",
            "tensor(0.0803, grad_fn=<MeanBackward0>)\n"
          ],
          "name": "stdout"
        }
      ]
    },
    {
      "cell_type": "code",
      "metadata": {
        "id": "3FofSv7M5a1p",
        "colab_type": "code",
        "colab": {
          "base_uri": "https://localhost:8080/",
          "height": 269
        },
        "outputId": "ca571f5b-bdaf-4725-ea65-667f9e526b24"
      },
      "source": [
        "plt.scatter(x[:,0],y)\n",
        "plt.scatter(x[:,0],x@a);\n"
      ],
      "execution_count": 21,
      "outputs": [
        {
          "output_type": "display_data",
          "data": {
            "image/png": "[encoded data removed]",
            "text/plain": [
              "<Figure size 432x288 with 1 Axes>"
            ]
          },
          "metadata": {
            "tags": []
          }
        }
      ]
    }
  ]
}